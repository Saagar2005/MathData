{
 "cells": [
  {
   "cell_type": "code",
   "execution_count": 1,
   "id": "0243a621",
   "metadata": {
    "_cell_guid": "b1076dfc-b9ad-4769-8c92-a6c4dae69d19",
    "_uuid": "8f2839f25d086af736a60e9eeb907d3b93b6e0e5",
    "execution": {
     "iopub.execute_input": "2023-07-24T07:32:32.998169Z",
     "iopub.status.busy": "2023-07-24T07:32:32.997742Z",
     "iopub.status.idle": "2023-07-24T07:32:33.014546Z",
     "shell.execute_reply": "2023-07-24T07:32:33.013342Z"
    },
    "papermill": {
     "duration": 0.028824,
     "end_time": "2023-07-24T07:32:33.017439",
     "exception": false,
     "start_time": "2023-07-24T07:32:32.988615",
     "status": "completed"
    },
    "tags": []
   },
   "outputs": [
    {
     "name": "stdout",
     "output_type": "stream",
     "text": [
      "/kaggle/input/titanic/train.csv\n",
      "/kaggle/input/titanic/test.csv\n",
      "/kaggle/input/titanic/gender_submission.csv\n"
     ]
    }
   ],
   "source": [
    "# This Python 3 environment comes with many helpful analytics libraries installed\n",
    "# It is defined by the kaggle/python Docker image: https://github.com/kaggle/docker-python\n",
    "# For example, here's several helpful packages to load\n",
    "\n",
    "import numpy as np # linear algebra\n",
    "import pandas as pd # data processing, CSV file I/O (e.g. pd.read_csv)\n",
    "\n",
    "# Input data files are available in the read-only \"../input/\" directory\n",
    "# For example, running this (by clicking run or pressing Shift+Enter) will list all files under the input directory\n",
    "\n",
    "import os\n",
    "for dirname, _, filenames in os.walk('/kaggle/input'):\n",
    "    for filename in filenames:\n",
    "        print(os.path.join(dirname, filename))\n",
    "\n",
    "# You can write up to 20GB to the current directory (/kaggle/working/) that gets preserved as output when you create a version using \"Save & Run All\" \n",
    "# You can also write temporary files to /kaggle/temp/, but they won't be saved outside of the current session"
   ]
  },
  {
   "cell_type": "code",
   "execution_count": 2,
   "id": "8aff095e",
   "metadata": {
    "execution": {
     "iopub.execute_input": "2023-07-24T07:32:33.031930Z",
     "iopub.status.busy": "2023-07-24T07:32:33.030764Z",
     "iopub.status.idle": "2023-07-24T07:32:33.083038Z",
     "shell.execute_reply": "2023-07-24T07:32:33.082072Z"
    },
    "papermill": {
     "duration": 0.062195,
     "end_time": "2023-07-24T07:32:33.085695",
     "exception": false,
     "start_time": "2023-07-24T07:32:33.023500",
     "status": "completed"
    },
    "tags": []
   },
   "outputs": [
    {
     "data": {
      "text/html": [
       "<div>\n",
       "<style scoped>\n",
       "    .dataframe tbody tr th:only-of-type {\n",
       "        vertical-align: middle;\n",
       "    }\n",
       "\n",
       "    .dataframe tbody tr th {\n",
       "        vertical-align: top;\n",
       "    }\n",
       "\n",
       "    .dataframe thead th {\n",
       "        text-align: right;\n",
       "    }\n",
       "</style>\n",
       "<table border=\"1\" class=\"dataframe\">\n",
       "  <thead>\n",
       "    <tr style=\"text-align: right;\">\n",
       "      <th></th>\n",
       "      <th>PassengerId</th>\n",
       "      <th>Survived</th>\n",
       "      <th>Pclass</th>\n",
       "      <th>Name</th>\n",
       "      <th>Sex</th>\n",
       "      <th>Age</th>\n",
       "      <th>SibSp</th>\n",
       "      <th>Parch</th>\n",
       "      <th>Ticket</th>\n",
       "      <th>Fare</th>\n",
       "      <th>Cabin</th>\n",
       "      <th>Embarked</th>\n",
       "    </tr>\n",
       "  </thead>\n",
       "  <tbody>\n",
       "    <tr>\n",
       "      <th>0</th>\n",
       "      <td>1</td>\n",
       "      <td>0</td>\n",
       "      <td>3</td>\n",
       "      <td>Braund, Mr. Owen Harris</td>\n",
       "      <td>male</td>\n",
       "      <td>22.0</td>\n",
       "      <td>1</td>\n",
       "      <td>0</td>\n",
       "      <td>A/5 21171</td>\n",
       "      <td>7.2500</td>\n",
       "      <td>NaN</td>\n",
       "      <td>S</td>\n",
       "    </tr>\n",
       "    <tr>\n",
       "      <th>1</th>\n",
       "      <td>2</td>\n",
       "      <td>1</td>\n",
       "      <td>1</td>\n",
       "      <td>Cumings, Mrs. John Bradley (Florence Briggs Th...</td>\n",
       "      <td>female</td>\n",
       "      <td>38.0</td>\n",
       "      <td>1</td>\n",
       "      <td>0</td>\n",
       "      <td>PC 17599</td>\n",
       "      <td>71.2833</td>\n",
       "      <td>C85</td>\n",
       "      <td>C</td>\n",
       "    </tr>\n",
       "    <tr>\n",
       "      <th>2</th>\n",
       "      <td>3</td>\n",
       "      <td>1</td>\n",
       "      <td>3</td>\n",
       "      <td>Heikkinen, Miss. Laina</td>\n",
       "      <td>female</td>\n",
       "      <td>26.0</td>\n",
       "      <td>0</td>\n",
       "      <td>0</td>\n",
       "      <td>STON/O2. 3101282</td>\n",
       "      <td>7.9250</td>\n",
       "      <td>NaN</td>\n",
       "      <td>S</td>\n",
       "    </tr>\n",
       "    <tr>\n",
       "      <th>3</th>\n",
       "      <td>4</td>\n",
       "      <td>1</td>\n",
       "      <td>1</td>\n",
       "      <td>Futrelle, Mrs. Jacques Heath (Lily May Peel)</td>\n",
       "      <td>female</td>\n",
       "      <td>35.0</td>\n",
       "      <td>1</td>\n",
       "      <td>0</td>\n",
       "      <td>113803</td>\n",
       "      <td>53.1000</td>\n",
       "      <td>C123</td>\n",
       "      <td>S</td>\n",
       "    </tr>\n",
       "    <tr>\n",
       "      <th>4</th>\n",
       "      <td>5</td>\n",
       "      <td>0</td>\n",
       "      <td>3</td>\n",
       "      <td>Allen, Mr. William Henry</td>\n",
       "      <td>male</td>\n",
       "      <td>35.0</td>\n",
       "      <td>0</td>\n",
       "      <td>0</td>\n",
       "      <td>373450</td>\n",
       "      <td>8.0500</td>\n",
       "      <td>NaN</td>\n",
       "      <td>S</td>\n",
       "    </tr>\n",
       "  </tbody>\n",
       "</table>\n",
       "</div>"
      ],
      "text/plain": [
       "   PassengerId  Survived  Pclass  \\\n",
       "0            1         0       3   \n",
       "1            2         1       1   \n",
       "2            3         1       3   \n",
       "3            4         1       1   \n",
       "4            5         0       3   \n",
       "\n",
       "                                                Name     Sex   Age  SibSp  \\\n",
       "0                            Braund, Mr. Owen Harris    male  22.0      1   \n",
       "1  Cumings, Mrs. John Bradley (Florence Briggs Th...  female  38.0      1   \n",
       "2                             Heikkinen, Miss. Laina  female  26.0      0   \n",
       "3       Futrelle, Mrs. Jacques Heath (Lily May Peel)  female  35.0      1   \n",
       "4                           Allen, Mr. William Henry    male  35.0      0   \n",
       "\n",
       "   Parch            Ticket     Fare Cabin Embarked  \n",
       "0      0         A/5 21171   7.2500   NaN        S  \n",
       "1      0          PC 17599  71.2833   C85        C  \n",
       "2      0  STON/O2. 3101282   7.9250   NaN        S  \n",
       "3      0            113803  53.1000  C123        S  \n",
       "4      0            373450   8.0500   NaN        S  "
      ]
     },
     "execution_count": 2,
     "metadata": {},
     "output_type": "execute_result"
    }
   ],
   "source": [
    "train_data = pd.read_csv(\"/kaggle/input/titanic/train.csv\")\n",
    "train_data.head()"
   ]
  },
  {
   "cell_type": "code",
   "execution_count": 3,
   "id": "c1c33c1e",
   "metadata": {
    "execution": {
     "iopub.execute_input": "2023-07-24T07:32:33.101310Z",
     "iopub.status.busy": "2023-07-24T07:32:33.099786Z",
     "iopub.status.idle": "2023-07-24T07:32:33.127055Z",
     "shell.execute_reply": "2023-07-24T07:32:33.126184Z"
    },
    "papermill": {
     "duration": 0.037442,
     "end_time": "2023-07-24T07:32:33.129494",
     "exception": false,
     "start_time": "2023-07-24T07:32:33.092052",
     "status": "completed"
    },
    "tags": []
   },
   "outputs": [
    {
     "data": {
      "text/html": [
       "<div>\n",
       "<style scoped>\n",
       "    .dataframe tbody tr th:only-of-type {\n",
       "        vertical-align: middle;\n",
       "    }\n",
       "\n",
       "    .dataframe tbody tr th {\n",
       "        vertical-align: top;\n",
       "    }\n",
       "\n",
       "    .dataframe thead th {\n",
       "        text-align: right;\n",
       "    }\n",
       "</style>\n",
       "<table border=\"1\" class=\"dataframe\">\n",
       "  <thead>\n",
       "    <tr style=\"text-align: right;\">\n",
       "      <th></th>\n",
       "      <th>PassengerId</th>\n",
       "      <th>Pclass</th>\n",
       "      <th>Name</th>\n",
       "      <th>Sex</th>\n",
       "      <th>Age</th>\n",
       "      <th>SibSp</th>\n",
       "      <th>Parch</th>\n",
       "      <th>Ticket</th>\n",
       "      <th>Fare</th>\n",
       "      <th>Cabin</th>\n",
       "      <th>Embarked</th>\n",
       "    </tr>\n",
       "  </thead>\n",
       "  <tbody>\n",
       "    <tr>\n",
       "      <th>0</th>\n",
       "      <td>892</td>\n",
       "      <td>3</td>\n",
       "      <td>Kelly, Mr. James</td>\n",
       "      <td>male</td>\n",
       "      <td>34.5</td>\n",
       "      <td>0</td>\n",
       "      <td>0</td>\n",
       "      <td>330911</td>\n",
       "      <td>7.8292</td>\n",
       "      <td>NaN</td>\n",
       "      <td>Q</td>\n",
       "    </tr>\n",
       "    <tr>\n",
       "      <th>1</th>\n",
       "      <td>893</td>\n",
       "      <td>3</td>\n",
       "      <td>Wilkes, Mrs. James (Ellen Needs)</td>\n",
       "      <td>female</td>\n",
       "      <td>47.0</td>\n",
       "      <td>1</td>\n",
       "      <td>0</td>\n",
       "      <td>363272</td>\n",
       "      <td>7.0000</td>\n",
       "      <td>NaN</td>\n",
       "      <td>S</td>\n",
       "    </tr>\n",
       "    <tr>\n",
       "      <th>2</th>\n",
       "      <td>894</td>\n",
       "      <td>2</td>\n",
       "      <td>Myles, Mr. Thomas Francis</td>\n",
       "      <td>male</td>\n",
       "      <td>62.0</td>\n",
       "      <td>0</td>\n",
       "      <td>0</td>\n",
       "      <td>240276</td>\n",
       "      <td>9.6875</td>\n",
       "      <td>NaN</td>\n",
       "      <td>Q</td>\n",
       "    </tr>\n",
       "    <tr>\n",
       "      <th>3</th>\n",
       "      <td>895</td>\n",
       "      <td>3</td>\n",
       "      <td>Wirz, Mr. Albert</td>\n",
       "      <td>male</td>\n",
       "      <td>27.0</td>\n",
       "      <td>0</td>\n",
       "      <td>0</td>\n",
       "      <td>315154</td>\n",
       "      <td>8.6625</td>\n",
       "      <td>NaN</td>\n",
       "      <td>S</td>\n",
       "    </tr>\n",
       "    <tr>\n",
       "      <th>4</th>\n",
       "      <td>896</td>\n",
       "      <td>3</td>\n",
       "      <td>Hirvonen, Mrs. Alexander (Helga E Lindqvist)</td>\n",
       "      <td>female</td>\n",
       "      <td>22.0</td>\n",
       "      <td>1</td>\n",
       "      <td>1</td>\n",
       "      <td>3101298</td>\n",
       "      <td>12.2875</td>\n",
       "      <td>NaN</td>\n",
       "      <td>S</td>\n",
       "    </tr>\n",
       "  </tbody>\n",
       "</table>\n",
       "</div>"
      ],
      "text/plain": [
       "   PassengerId  Pclass                                          Name     Sex  \\\n",
       "0          892       3                              Kelly, Mr. James    male   \n",
       "1          893       3              Wilkes, Mrs. James (Ellen Needs)  female   \n",
       "2          894       2                     Myles, Mr. Thomas Francis    male   \n",
       "3          895       3                              Wirz, Mr. Albert    male   \n",
       "4          896       3  Hirvonen, Mrs. Alexander (Helga E Lindqvist)  female   \n",
       "\n",
       "    Age  SibSp  Parch   Ticket     Fare Cabin Embarked  \n",
       "0  34.5      0      0   330911   7.8292   NaN        Q  \n",
       "1  47.0      1      0   363272   7.0000   NaN        S  \n",
       "2  62.0      0      0   240276   9.6875   NaN        Q  \n",
       "3  27.0      0      0   315154   8.6625   NaN        S  \n",
       "4  22.0      1      1  3101298  12.2875   NaN        S  "
      ]
     },
     "execution_count": 3,
     "metadata": {},
     "output_type": "execute_result"
    }
   ],
   "source": [
    "test_data = pd.read_csv(\"/kaggle/input/titanic/test.csv\")\n",
    "test_data.head()"
   ]
  },
  {
   "cell_type": "code",
   "execution_count": 4,
   "id": "8549f21f",
   "metadata": {
    "execution": {
     "iopub.execute_input": "2023-07-24T07:32:33.144917Z",
     "iopub.status.busy": "2023-07-24T07:32:33.144276Z",
     "iopub.status.idle": "2023-07-24T07:32:33.169016Z",
     "shell.execute_reply": "2023-07-24T07:32:33.167570Z"
    },
    "papermill": {
     "duration": 0.035753,
     "end_time": "2023-07-24T07:32:33.171847",
     "exception": false,
     "start_time": "2023-07-24T07:32:33.136094",
     "status": "completed"
    },
    "tags": []
   },
   "outputs": [],
   "source": [
    "train_data.drop(['PassengerId','Name','Ticket','Cabin'], axis =1, inplace = True)\n",
    "test_data.drop(['Name','Ticket','Cabin'], axis =1, inplace = True)\n",
    "train_data['Age'].fillna(train_data['Age'].median(), inplace = True)\n",
    "test_data['Age'].fillna(train_data['Age'].median(), inplace = True)\n",
    "y = train_data.Survived\n",
    "Id = test_data.PassengerId\n",
    "train_data.drop(['Survived'], axis =1, inplace = True)\n",
    "test_data.drop(['PassengerId'], axis =1, inplace = True)"
   ]
  },
  {
   "cell_type": "code",
   "execution_count": 5,
   "id": "aa30b295",
   "metadata": {
    "execution": {
     "iopub.execute_input": "2023-07-24T07:32:33.187710Z",
     "iopub.status.busy": "2023-07-24T07:32:33.187040Z",
     "iopub.status.idle": "2023-07-24T07:32:33.194752Z",
     "shell.execute_reply": "2023-07-24T07:32:33.193854Z"
    },
    "papermill": {
     "duration": 0.018216,
     "end_time": "2023-07-24T07:32:33.197219",
     "exception": false,
     "start_time": "2023-07-24T07:32:33.179003",
     "status": "completed"
    },
    "tags": []
   },
   "outputs": [
    {
     "data": {
      "text/plain": [
       "Pclass        int64\n",
       "Sex          object\n",
       "Age         float64\n",
       "SibSp         int64\n",
       "Parch         int64\n",
       "Fare        float64\n",
       "Embarked     object\n",
       "dtype: object"
      ]
     },
     "execution_count": 5,
     "metadata": {},
     "output_type": "execute_result"
    }
   ],
   "source": [
    "train_data.dtypes"
   ]
  },
  {
   "cell_type": "code",
   "execution_count": 6,
   "id": "e81e3cca",
   "metadata": {
    "execution": {
     "iopub.execute_input": "2023-07-24T07:32:33.213837Z",
     "iopub.status.busy": "2023-07-24T07:32:33.213201Z",
     "iopub.status.idle": "2023-07-24T07:32:33.227903Z",
     "shell.execute_reply": "2023-07-24T07:32:33.226527Z"
    },
    "papermill": {
     "duration": 0.026567,
     "end_time": "2023-07-24T07:32:33.230661",
     "exception": false,
     "start_time": "2023-07-24T07:32:33.204094",
     "status": "completed"
    },
    "tags": []
   },
   "outputs": [],
   "source": [
    "train_data= pd.get_dummies(train_data)\n",
    "test_data = pd.get_dummies(test_data)\n",
    "train_data_f,test_data_f = train_data.align(test_data, join = 'inner', axis = 1)"
   ]
  },
  {
   "cell_type": "code",
   "execution_count": 7,
   "id": "e05612cf",
   "metadata": {
    "execution": {
     "iopub.execute_input": "2023-07-24T07:32:33.247343Z",
     "iopub.status.busy": "2023-07-24T07:32:33.246919Z",
     "iopub.status.idle": "2023-07-24T07:32:33.263924Z",
     "shell.execute_reply": "2023-07-24T07:32:33.262667Z"
    },
    "papermill": {
     "duration": 0.027602,
     "end_time": "2023-07-24T07:32:33.266484",
     "exception": false,
     "start_time": "2023-07-24T07:32:33.238882",
     "status": "completed"
    },
    "tags": []
   },
   "outputs": [
    {
     "data": {
      "text/html": [
       "<div>\n",
       "<style scoped>\n",
       "    .dataframe tbody tr th:only-of-type {\n",
       "        vertical-align: middle;\n",
       "    }\n",
       "\n",
       "    .dataframe tbody tr th {\n",
       "        vertical-align: top;\n",
       "    }\n",
       "\n",
       "    .dataframe thead th {\n",
       "        text-align: right;\n",
       "    }\n",
       "</style>\n",
       "<table border=\"1\" class=\"dataframe\">\n",
       "  <thead>\n",
       "    <tr style=\"text-align: right;\">\n",
       "      <th></th>\n",
       "      <th>Pclass</th>\n",
       "      <th>Age</th>\n",
       "      <th>SibSp</th>\n",
       "      <th>Parch</th>\n",
       "      <th>Fare</th>\n",
       "      <th>Sex_female</th>\n",
       "      <th>Sex_male</th>\n",
       "      <th>Embarked_C</th>\n",
       "      <th>Embarked_Q</th>\n",
       "      <th>Embarked_S</th>\n",
       "    </tr>\n",
       "  </thead>\n",
       "  <tbody>\n",
       "    <tr>\n",
       "      <th>0</th>\n",
       "      <td>3</td>\n",
       "      <td>22.0</td>\n",
       "      <td>1</td>\n",
       "      <td>0</td>\n",
       "      <td>7.2500</td>\n",
       "      <td>0</td>\n",
       "      <td>1</td>\n",
       "      <td>0</td>\n",
       "      <td>0</td>\n",
       "      <td>1</td>\n",
       "    </tr>\n",
       "    <tr>\n",
       "      <th>1</th>\n",
       "      <td>1</td>\n",
       "      <td>38.0</td>\n",
       "      <td>1</td>\n",
       "      <td>0</td>\n",
       "      <td>71.2833</td>\n",
       "      <td>1</td>\n",
       "      <td>0</td>\n",
       "      <td>1</td>\n",
       "      <td>0</td>\n",
       "      <td>0</td>\n",
       "    </tr>\n",
       "    <tr>\n",
       "      <th>2</th>\n",
       "      <td>3</td>\n",
       "      <td>26.0</td>\n",
       "      <td>0</td>\n",
       "      <td>0</td>\n",
       "      <td>7.9250</td>\n",
       "      <td>1</td>\n",
       "      <td>0</td>\n",
       "      <td>0</td>\n",
       "      <td>0</td>\n",
       "      <td>1</td>\n",
       "    </tr>\n",
       "    <tr>\n",
       "      <th>3</th>\n",
       "      <td>1</td>\n",
       "      <td>35.0</td>\n",
       "      <td>1</td>\n",
       "      <td>0</td>\n",
       "      <td>53.1000</td>\n",
       "      <td>1</td>\n",
       "      <td>0</td>\n",
       "      <td>0</td>\n",
       "      <td>0</td>\n",
       "      <td>1</td>\n",
       "    </tr>\n",
       "    <tr>\n",
       "      <th>4</th>\n",
       "      <td>3</td>\n",
       "      <td>35.0</td>\n",
       "      <td>0</td>\n",
       "      <td>0</td>\n",
       "      <td>8.0500</td>\n",
       "      <td>0</td>\n",
       "      <td>1</td>\n",
       "      <td>0</td>\n",
       "      <td>0</td>\n",
       "      <td>1</td>\n",
       "    </tr>\n",
       "  </tbody>\n",
       "</table>\n",
       "</div>"
      ],
      "text/plain": [
       "   Pclass   Age  SibSp  Parch     Fare  Sex_female  Sex_male  Embarked_C  \\\n",
       "0       3  22.0      1      0   7.2500           0         1           0   \n",
       "1       1  38.0      1      0  71.2833           1         0           1   \n",
       "2       3  26.0      0      0   7.9250           1         0           0   \n",
       "3       1  35.0      1      0  53.1000           1         0           0   \n",
       "4       3  35.0      0      0   8.0500           0         1           0   \n",
       "\n",
       "   Embarked_Q  Embarked_S  \n",
       "0           0           1  \n",
       "1           0           0  \n",
       "2           0           1  \n",
       "3           0           1  \n",
       "4           0           1  "
      ]
     },
     "execution_count": 7,
     "metadata": {},
     "output_type": "execute_result"
    }
   ],
   "source": [
    "train_data_f.head()"
   ]
  },
  {
   "cell_type": "code",
   "execution_count": 8,
   "id": "26c7ea66",
   "metadata": {
    "execution": {
     "iopub.execute_input": "2023-07-24T07:32:33.282226Z",
     "iopub.status.busy": "2023-07-24T07:32:33.281770Z",
     "iopub.status.idle": "2023-07-24T07:32:33.296474Z",
     "shell.execute_reply": "2023-07-24T07:32:33.295506Z"
    },
    "papermill": {
     "duration": 0.025744,
     "end_time": "2023-07-24T07:32:33.299178",
     "exception": false,
     "start_time": "2023-07-24T07:32:33.273434",
     "status": "completed"
    },
    "tags": []
   },
   "outputs": [
    {
     "data": {
      "text/html": [
       "<div>\n",
       "<style scoped>\n",
       "    .dataframe tbody tr th:only-of-type {\n",
       "        vertical-align: middle;\n",
       "    }\n",
       "\n",
       "    .dataframe tbody tr th {\n",
       "        vertical-align: top;\n",
       "    }\n",
       "\n",
       "    .dataframe thead th {\n",
       "        text-align: right;\n",
       "    }\n",
       "</style>\n",
       "<table border=\"1\" class=\"dataframe\">\n",
       "  <thead>\n",
       "    <tr style=\"text-align: right;\">\n",
       "      <th></th>\n",
       "      <th>Pclass</th>\n",
       "      <th>Age</th>\n",
       "      <th>SibSp</th>\n",
       "      <th>Parch</th>\n",
       "      <th>Fare</th>\n",
       "      <th>Sex_female</th>\n",
       "      <th>Sex_male</th>\n",
       "      <th>Embarked_C</th>\n",
       "      <th>Embarked_Q</th>\n",
       "      <th>Embarked_S</th>\n",
       "    </tr>\n",
       "  </thead>\n",
       "  <tbody>\n",
       "    <tr>\n",
       "      <th>0</th>\n",
       "      <td>3</td>\n",
       "      <td>34.5</td>\n",
       "      <td>0</td>\n",
       "      <td>0</td>\n",
       "      <td>7.8292</td>\n",
       "      <td>0</td>\n",
       "      <td>1</td>\n",
       "      <td>0</td>\n",
       "      <td>1</td>\n",
       "      <td>0</td>\n",
       "    </tr>\n",
       "    <tr>\n",
       "      <th>1</th>\n",
       "      <td>3</td>\n",
       "      <td>47.0</td>\n",
       "      <td>1</td>\n",
       "      <td>0</td>\n",
       "      <td>7.0000</td>\n",
       "      <td>1</td>\n",
       "      <td>0</td>\n",
       "      <td>0</td>\n",
       "      <td>0</td>\n",
       "      <td>1</td>\n",
       "    </tr>\n",
       "    <tr>\n",
       "      <th>2</th>\n",
       "      <td>2</td>\n",
       "      <td>62.0</td>\n",
       "      <td>0</td>\n",
       "      <td>0</td>\n",
       "      <td>9.6875</td>\n",
       "      <td>0</td>\n",
       "      <td>1</td>\n",
       "      <td>0</td>\n",
       "      <td>1</td>\n",
       "      <td>0</td>\n",
       "    </tr>\n",
       "    <tr>\n",
       "      <th>3</th>\n",
       "      <td>3</td>\n",
       "      <td>27.0</td>\n",
       "      <td>0</td>\n",
       "      <td>0</td>\n",
       "      <td>8.6625</td>\n",
       "      <td>0</td>\n",
       "      <td>1</td>\n",
       "      <td>0</td>\n",
       "      <td>0</td>\n",
       "      <td>1</td>\n",
       "    </tr>\n",
       "    <tr>\n",
       "      <th>4</th>\n",
       "      <td>3</td>\n",
       "      <td>22.0</td>\n",
       "      <td>1</td>\n",
       "      <td>1</td>\n",
       "      <td>12.2875</td>\n",
       "      <td>1</td>\n",
       "      <td>0</td>\n",
       "      <td>0</td>\n",
       "      <td>0</td>\n",
       "      <td>1</td>\n",
       "    </tr>\n",
       "  </tbody>\n",
       "</table>\n",
       "</div>"
      ],
      "text/plain": [
       "   Pclass   Age  SibSp  Parch     Fare  Sex_female  Sex_male  Embarked_C  \\\n",
       "0       3  34.5      0      0   7.8292           0         1           0   \n",
       "1       3  47.0      1      0   7.0000           1         0           0   \n",
       "2       2  62.0      0      0   9.6875           0         1           0   \n",
       "3       3  27.0      0      0   8.6625           0         1           0   \n",
       "4       3  22.0      1      1  12.2875           1         0           0   \n",
       "\n",
       "   Embarked_Q  Embarked_S  \n",
       "0           1           0  \n",
       "1           0           1  \n",
       "2           1           0  \n",
       "3           0           1  \n",
       "4           0           1  "
      ]
     },
     "execution_count": 8,
     "metadata": {},
     "output_type": "execute_result"
    }
   ],
   "source": [
    "test_data_f.head()"
   ]
  },
  {
   "cell_type": "code",
   "execution_count": 9,
   "id": "f349c6a9",
   "metadata": {
    "execution": {
     "iopub.execute_input": "2023-07-24T07:32:33.315481Z",
     "iopub.status.busy": "2023-07-24T07:32:33.315060Z",
     "iopub.status.idle": "2023-07-24T07:32:33.325493Z",
     "shell.execute_reply": "2023-07-24T07:32:33.324379Z"
    },
    "papermill": {
     "duration": 0.021534,
     "end_time": "2023-07-24T07:32:33.327998",
     "exception": false,
     "start_time": "2023-07-24T07:32:33.306464",
     "status": "completed"
    },
    "tags": []
   },
   "outputs": [
    {
     "data": {
      "text/plain": [
       "Pclass        False\n",
       "Age           False\n",
       "SibSp         False\n",
       "Parch         False\n",
       "Fare          False\n",
       "Sex_female    False\n",
       "Sex_male      False\n",
       "Embarked_C    False\n",
       "Embarked_Q    False\n",
       "Embarked_S    False\n",
       "dtype: bool"
      ]
     },
     "execution_count": 9,
     "metadata": {},
     "output_type": "execute_result"
    }
   ],
   "source": [
    "train_data_f.isna().any()"
   ]
  },
  {
   "cell_type": "code",
   "execution_count": 10,
   "id": "118a38e2",
   "metadata": {
    "execution": {
     "iopub.execute_input": "2023-07-24T07:32:33.344514Z",
     "iopub.status.busy": "2023-07-24T07:32:33.344082Z",
     "iopub.status.idle": "2023-07-24T07:32:33.354298Z",
     "shell.execute_reply": "2023-07-24T07:32:33.353022Z"
    },
    "papermill": {
     "duration": 0.021513,
     "end_time": "2023-07-24T07:32:33.356836",
     "exception": false,
     "start_time": "2023-07-24T07:32:33.335323",
     "status": "completed"
    },
    "tags": []
   },
   "outputs": [
    {
     "data": {
      "text/plain": [
       "Pclass        False\n",
       "Age           False\n",
       "SibSp         False\n",
       "Parch         False\n",
       "Fare           True\n",
       "Sex_female    False\n",
       "Sex_male      False\n",
       "Embarked_C    False\n",
       "Embarked_Q    False\n",
       "Embarked_S    False\n",
       "dtype: bool"
      ]
     },
     "execution_count": 10,
     "metadata": {},
     "output_type": "execute_result"
    }
   ],
   "source": [
    "test_data_f.isna().any()"
   ]
  },
  {
   "cell_type": "code",
   "execution_count": 11,
   "id": "389f0dc0",
   "metadata": {
    "execution": {
     "iopub.execute_input": "2023-07-24T07:32:33.373679Z",
     "iopub.status.busy": "2023-07-24T07:32:33.373251Z",
     "iopub.status.idle": "2023-07-24T07:32:33.380043Z",
     "shell.execute_reply": "2023-07-24T07:32:33.378739Z"
    },
    "papermill": {
     "duration": 0.018205,
     "end_time": "2023-07-24T07:32:33.382640",
     "exception": false,
     "start_time": "2023-07-24T07:32:33.364435",
     "status": "completed"
    },
    "tags": []
   },
   "outputs": [],
   "source": [
    "test_data_f['Fare'].fillna(test_data_f['Fare'].mean(), inplace = True)"
   ]
  },
  {
   "cell_type": "code",
   "execution_count": 12,
   "id": "81972fd9",
   "metadata": {
    "execution": {
     "iopub.execute_input": "2023-07-24T07:32:33.399854Z",
     "iopub.status.busy": "2023-07-24T07:32:33.399425Z",
     "iopub.status.idle": "2023-07-24T07:32:35.537482Z",
     "shell.execute_reply": "2023-07-24T07:32:35.536026Z"
    },
    "papermill": {
     "duration": 2.149815,
     "end_time": "2023-07-24T07:32:35.540201",
     "exception": false,
     "start_time": "2023-07-24T07:32:33.390386",
     "status": "completed"
    },
    "tags": []
   },
   "outputs": [
    {
     "name": "stderr",
     "output_type": "stream",
     "text": [
      "/opt/conda/lib/python3.10/site-packages/scipy/__init__.py:146: UserWarning: A NumPy version >=1.16.5 and <1.23.0 is required for this version of SciPy (detected version 1.23.5\n",
      "  warnings.warn(f\"A NumPy version >={np_minversion} and <{np_maxversion}\"\n"
     ]
    },
    {
     "data": {
      "text/plain": [
       "array([0.11      , 0.21      , 0.59      , 0.62      , 0.58      ,\n",
       "       0.0425    , 0.128     , 0.08      , 0.95      , 0.02      ,\n",
       "       0.        , 0.14216667, 1.        , 0.28      , 0.99      ,\n",
       "       0.975     , 0.04164286, 0.71      , 0.69      , 0.238     ,\n",
       "       0.53      , 0.81      , 1.        , 0.48      , 0.91      ,\n",
       "       0.01      , 1.        , 0.66      , 0.67333333, 0.15      ,\n",
       "       0.01      , 0.02      , 0.79      , 0.15      , 0.61625   ,\n",
       "       0.49      , 0.03      , 0.08      , 0.01      , 0.47014286,\n",
       "       0.312     , 0.60383333, 0.095     , 1.        , 0.99      ,\n",
       "       0.014     , 0.24666667, 0.11514495, 0.98      , 0.73      ,\n",
       "       0.55      , 0.19      , 0.92      , 0.86      , 0.37      ,\n",
       "       0.05      , 0.01      , 0.        , 0.        , 1.        ,\n",
       "       0.06666667, 0.3       , 0.        , 0.89      , 0.68      ,\n",
       "       0.89      , 0.86      , 0.04      , 0.1325    , 0.91      ,\n",
       "       0.67816919, 0.02      , 0.28      , 0.0625    , 1.        ,\n",
       "       0.31      , 0.        , 0.75      , 0.01      , 0.67816919,\n",
       "       0.94      , 0.23      , 0.2505    , 0.        , 0.1265    ,\n",
       "       0.11      , 1.        , 0.52      , 0.8743216 , 0.98      ,\n",
       "       0.41      , 0.43983333, 0.78      , 0.        , 0.316     ,\n",
       "       0.185     , 0.99      , 0.23066667, 0.56      , 0.1875    ,\n",
       "       1.        , 0.05      , 0.11514495, 0.11666667, 0.71      ,\n",
       "       0.08      , 0.1620202 , 0.11514495, 0.08      , 0.01      ,\n",
       "       0.06666667, 0.89533178, 1.        , 0.8       , 1.        ,\n",
       "       0.34      , 0.01      , 0.88      , 0.34      , 1.        ,\n",
       "       0.99333333, 0.05993093, 1.        , 0.        , 0.11514495,\n",
       "       0.61      , 0.19      , 0.92      , 0.44133333, 0.        ,\n",
       "       0.68033333, 0.31      , 0.05      , 0.0275    , 0.07      ,\n",
       "       0.01      , 0.08      , 0.        , 0.11      , 0.05      ,\n",
       "       0.02      , 0.86      , 0.3       , 0.01916667, 0.7495    ,\n",
       "       0.14      , 0.03958333, 0.        , 0.60383333, 0.11      ,\n",
       "       1.        , 0.02233333, 0.075     , 0.7       , 0.04      ,\n",
       "       0.08      , 1.        , 0.51      , 0.7495    , 0.67      ,\n",
       "       0.98726612, 0.86      , 0.779     , 0.09      , 0.35183333,\n",
       "       0.41      , 0.52      , 0.02      , 1.        , 0.06      ,\n",
       "       0.0125    , 0.19      , 0.03      , 0.17434271, 0.03      ,\n",
       "       1.        , 1.        , 0.51      , 0.99      , 0.97      ,\n",
       "       0.01      , 0.35      , 1.        , 0.11514495, 0.92      ,\n",
       "       0.01666667, 0.86      , 0.57916667, 0.        , 0.075     ,\n",
       "       0.05      , 0.08283333, 0.52      , 0.32      , 0.82      ,\n",
       "       0.1925    , 0.95      , 0.36      , 0.        , 0.03      ,\n",
       "       0.93      , 1.        , 0.25      , 0.91      , 0.01      ,\n",
       "       0.09      , 0.25832071, 0.        , 1.        , 0.        ,\n",
       "       0.38      , 0.        , 0.185     , 0.6       , 0.18      ,\n",
       "       0.11      , 0.99      , 0.28      , 0.97      , 0.        ,\n",
       "       1.        , 0.01      , 0.93966667, 0.63      , 0.84      ,\n",
       "       0.29      , 0.06      , 0.8743216 , 0.        , 0.06083333,\n",
       "       0.215     , 1.        , 0.06083333, 0.01186373, 0.59      ,\n",
       "       0.        , 0.51      , 0.74      , 0.8375    , 0.99      ,\n",
       "       0.83      , 0.95      , 0.3       , 0.        , 0.03      ,\n",
       "       0.2       , 0.85666667, 0.029     , 1.        , 0.08      ,\n",
       "       0.55      , 0.09833333, 0.45      , 0.        , 0.16333333,\n",
       "       0.0125    , 0.11514495, 0.        , 0.9275    , 0.11      ,\n",
       "       0.        , 0.03      , 0.98      , 0.94      , 0.3       ,\n",
       "       0.        , 0.02      , 0.0125    , 0.03      , 0.        ,\n",
       "       0.24      , 0.11514495, 0.92      , 0.98      , 0.        ,\n",
       "       0.94      , 0.0685    , 0.        , 0.04      , 0.0165    ,\n",
       "       0.05      , 1.        , 0.8743216 , 0.2       , 0.67      ,\n",
       "       0.        , 0.        , 0.31      , 0.17434271, 0.        ,\n",
       "       0.12      , 0.14      , 0.17434271, 0.08      , 0.04      ,\n",
       "       0.        , 0.51      , 0.15      , 0.01      , 0.11      ,\n",
       "       0.26904762, 0.19      , 0.0475    , 0.05      , 0.8743216 ,\n",
       "       0.86      , 0.46      , 1.        , 0.23      , 0.07      ,\n",
       "       0.03      , 0.66      , 0.0125    , 0.15407071, 0.98      ,\n",
       "       0.89      , 0.44      , 0.44502381, 0.22      , 0.02      ,\n",
       "       0.11666667, 0.05292569, 0.        , 0.89683333, 1.        ,\n",
       "       0.04      , 1.        , 0.1       , 0.1025    , 0.        ,\n",
       "       0.97      , 0.4       , 0.        , 0.64      , 0.17      ,\n",
       "       0.0935    , 0.49166667, 0.1345    , 0.11      , 0.17434271,\n",
       "       0.24883333, 0.17571429, 0.05988095, 0.99      , 0.07      ,\n",
       "       0.73      , 0.        , 0.268     , 0.        , 0.94      ,\n",
       "       0.99      , 0.01      , 0.025     , 0.18071429, 0.76      ,\n",
       "       0.2605    , 0.97      , 0.        , 0.11514495, 0.81      ,\n",
       "       0.11      , 1.        , 0.94      , 0.62      , 0.94      ,\n",
       "       0.38      , 0.1       , 0.25      , 0.99      , 0.66      ,\n",
       "       0.01      , 1.        , 0.1425    , 0.37066667, 1.        ,\n",
       "       1.        , 0.15      , 0.01333333, 0.06      , 0.27      ,\n",
       "       0.11514495, 0.03129555, 0.43      , 0.45      , 0.40404762,\n",
       "       0.99      , 0.09083333, 0.01      , 0.0939538 , 0.09      ,\n",
       "       0.24      , 0.93      , 0.28      , 0.05      , 0.1       ,\n",
       "       1.        , 0.16      , 1.        , 0.04166667, 0.03      ,\n",
       "       0.99      , 0.01      , 1.        , 0.35      , 0.25083333,\n",
       "       0.63333333, 0.02      , 0.17      , 0.98726612, 0.75      ,\n",
       "       0.8743216 , 1.        , 0.30313889, 0.        , 1.        ,\n",
       "       0.        , 0.        , 0.52      ])"
      ]
     },
     "execution_count": 12,
     "metadata": {},
     "output_type": "execute_result"
    }
   ],
   "source": [
    "from sklearn.ensemble import RandomForestRegressor\n",
    "obj = RandomForestRegressor(random_state = 0)\n",
    "obj.fit(train_data_f,y)\n",
    "prediction = obj.predict(test_data_f)\n",
    "prediction"
   ]
  },
  {
   "cell_type": "code",
   "execution_count": 13,
   "id": "f0062e10",
   "metadata": {
    "execution": {
     "iopub.execute_input": "2023-07-24T07:32:35.558430Z",
     "iopub.status.busy": "2023-07-24T07:32:35.557783Z",
     "iopub.status.idle": "2023-07-24T07:32:35.567467Z",
     "shell.execute_reply": "2023-07-24T07:32:35.566160Z"
    },
    "papermill": {
     "duration": 0.021812,
     "end_time": "2023-07-24T07:32:35.570167",
     "exception": false,
     "start_time": "2023-07-24T07:32:35.548355",
     "status": "completed"
    },
    "tags": []
   },
   "outputs": [
    {
     "data": {
      "text/plain": [
       "0      0\n",
       "1      0\n",
       "2      1\n",
       "3      1\n",
       "4      1\n",
       "      ..\n",
       "413    0\n",
       "414    1\n",
       "415    0\n",
       "416    0\n",
       "417    1\n",
       "Length: 418, dtype: int64"
      ]
     },
     "execution_count": 13,
     "metadata": {},
     "output_type": "execute_result"
    }
   ],
   "source": [
    "prediction = prediction>=0.5\n",
    "prediction = pd.Series(prediction.astype(int))\n",
    "prediction"
   ]
  },
  {
   "cell_type": "code",
   "execution_count": 14,
   "id": "bf3fcf1f",
   "metadata": {
    "execution": {
     "iopub.execute_input": "2023-07-24T07:32:35.588114Z",
     "iopub.status.busy": "2023-07-24T07:32:35.587712Z",
     "iopub.status.idle": "2023-07-24T07:32:35.601004Z",
     "shell.execute_reply": "2023-07-24T07:32:35.600014Z"
    },
    "papermill": {
     "duration": 0.024707,
     "end_time": "2023-07-24T07:32:35.603008",
     "exception": false,
     "start_time": "2023-07-24T07:32:35.578301",
     "status": "completed"
    },
    "tags": []
   },
   "outputs": [
    {
     "data": {
      "text/html": [
       "<div>\n",
       "<style scoped>\n",
       "    .dataframe tbody tr th:only-of-type {\n",
       "        vertical-align: middle;\n",
       "    }\n",
       "\n",
       "    .dataframe tbody tr th {\n",
       "        vertical-align: top;\n",
       "    }\n",
       "\n",
       "    .dataframe thead th {\n",
       "        text-align: right;\n",
       "    }\n",
       "</style>\n",
       "<table border=\"1\" class=\"dataframe\">\n",
       "  <thead>\n",
       "    <tr style=\"text-align: right;\">\n",
       "      <th></th>\n",
       "      <th>PassengerId</th>\n",
       "      <th>Survived</th>\n",
       "    </tr>\n",
       "  </thead>\n",
       "  <tbody>\n",
       "    <tr>\n",
       "      <th>0</th>\n",
       "      <td>892</td>\n",
       "      <td>0</td>\n",
       "    </tr>\n",
       "    <tr>\n",
       "      <th>1</th>\n",
       "      <td>893</td>\n",
       "      <td>0</td>\n",
       "    </tr>\n",
       "    <tr>\n",
       "      <th>2</th>\n",
       "      <td>894</td>\n",
       "      <td>1</td>\n",
       "    </tr>\n",
       "    <tr>\n",
       "      <th>3</th>\n",
       "      <td>895</td>\n",
       "      <td>1</td>\n",
       "    </tr>\n",
       "    <tr>\n",
       "      <th>4</th>\n",
       "      <td>896</td>\n",
       "      <td>1</td>\n",
       "    </tr>\n",
       "    <tr>\n",
       "      <th>...</th>\n",
       "      <td>...</td>\n",
       "      <td>...</td>\n",
       "    </tr>\n",
       "    <tr>\n",
       "      <th>413</th>\n",
       "      <td>1305</td>\n",
       "      <td>0</td>\n",
       "    </tr>\n",
       "    <tr>\n",
       "      <th>414</th>\n",
       "      <td>1306</td>\n",
       "      <td>1</td>\n",
       "    </tr>\n",
       "    <tr>\n",
       "      <th>415</th>\n",
       "      <td>1307</td>\n",
       "      <td>0</td>\n",
       "    </tr>\n",
       "    <tr>\n",
       "      <th>416</th>\n",
       "      <td>1308</td>\n",
       "      <td>0</td>\n",
       "    </tr>\n",
       "    <tr>\n",
       "      <th>417</th>\n",
       "      <td>1309</td>\n",
       "      <td>1</td>\n",
       "    </tr>\n",
       "  </tbody>\n",
       "</table>\n",
       "<p>418 rows × 2 columns</p>\n",
       "</div>"
      ],
      "text/plain": [
       "     PassengerId  Survived\n",
       "0            892         0\n",
       "1            893         0\n",
       "2            894         1\n",
       "3            895         1\n",
       "4            896         1\n",
       "..           ...       ...\n",
       "413         1305         0\n",
       "414         1306         1\n",
       "415         1307         0\n",
       "416         1308         0\n",
       "417         1309         1\n",
       "\n",
       "[418 rows x 2 columns]"
      ]
     },
     "execution_count": 14,
     "metadata": {},
     "output_type": "execute_result"
    }
   ],
   "source": [
    "columns = {'PassengerId': Id, 'Survived': prediction}\n",
    "submission = pd.concat(columns, axis =1)\n",
    "submission"
   ]
  },
  {
   "cell_type": "code",
   "execution_count": 15,
   "id": "e9d78e8c",
   "metadata": {
    "execution": {
     "iopub.execute_input": "2023-07-24T07:32:35.621997Z",
     "iopub.status.busy": "2023-07-24T07:32:35.621247Z",
     "iopub.status.idle": "2023-07-24T07:32:35.630659Z",
     "shell.execute_reply": "2023-07-24T07:32:35.629481Z"
    },
    "papermill": {
     "duration": 0.021988,
     "end_time": "2023-07-24T07:32:35.633395",
     "exception": false,
     "start_time": "2023-07-24T07:32:35.611407",
     "status": "completed"
    },
    "tags": []
   },
   "outputs": [],
   "source": [
    "submission.to_csv('submission.csv', index = False)"
   ]
  }
 ],
 "metadata": {
  "kernelspec": {
   "display_name": "Python 3",
   "language": "python",
   "name": "python3"
  },
  "language_info": {
   "codemirror_mode": {
    "name": "ipython",
    "version": 3
   },
   "file_extension": ".py",
   "mimetype": "text/x-python",
   "name": "python",
   "nbconvert_exporter": "python",
   "pygments_lexer": "ipython3",
   "version": "3.10.12"
  },
  "papermill": {
   "default_parameters": {},
   "duration": 16.456716,
   "end_time": "2023-07-24T07:32:36.665117",
   "environment_variables": {},
   "exception": null,
   "input_path": "__notebook__.ipynb",
   "output_path": "__notebook__.ipynb",
   "parameters": {},
   "start_time": "2023-07-24T07:32:20.208401",
   "version": "2.4.0"
  }
 },
 "nbformat": 4,
 "nbformat_minor": 5
}
